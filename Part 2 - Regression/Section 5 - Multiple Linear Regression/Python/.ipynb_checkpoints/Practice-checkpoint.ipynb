{
 "cells": [
  {
   "cell_type": "code",
   "execution_count": null,
   "id": "0d8af7c2-5b7d-42f9-ab4d-640a5bfb1c6c",
   "metadata": {},
   "outputs": [],
   "source": []
  },
  {
   "cell_type": "code",
   "execution_count": null,
   "id": "8de9d967-6750-4688-a0c2-650055fca142",
   "metadata": {},
   "outputs": [],
   "source": []
  },
  {
   "cell_type": "code",
   "execution_count": null,
   "id": "b9e971e3-4b47-48d0-8605-da4aedeb49e4",
   "metadata": {},
   "outputs": [],
   "source": []
  },
  {
   "cell_type": "code",
   "execution_count": null,
   "id": "cd3b9382-629e-4d14-97b5-afe71bf899b1",
   "metadata": {},
   "outputs": [],
   "source": []
  },
  {
   "cell_type": "code",
   "execution_count": null,
   "id": "8719103e-72f9-4607-b63f-0b3f553e8735",
   "metadata": {},
   "outputs": [],
   "source": []
  },
  {
   "cell_type": "markdown",
   "id": "8b448569-21ba-4619-9b32-46f39ce259d4",
   "metadata": {},
   "source": [
    "## Handling categorical values\n",
    "- To Handle categorical values we need to create a Column\n",
    "    - insert 1 if the categorical data present in that row in referenced categorical column\n",
    "    - if the categorical data not present in there insert 0 in those categorical columns\n",
    "    - We converted categorical data into numarical data\n",
    "    - ## this data is called Dummy variables"
   ]
  },
  {
   "cell_type": "markdown",
   "id": "c4df27c7-acdc-4406-adb7-635fd7ece7e9",
   "metadata": {
    "tags": []
   },
   "source": [
    "\n",
    "- Data columns that we had\n",
    "    - Profit , R&D Spend , Admin , Marketing , state( states are categorical Data)\n",
    "- in this we have to figure out the profits by using the sent amout on the different fields\n",
    "    - R&D Spend , Admin , Marketing , state\n",
    "- Equation = ```y=b0+b1*X1+b2*X2+b3*X3+(+b4*D1 (Categorical value))```\n",
    "- Profit is dependent variable and rest of them are independent variables\n",
    "- profit = Y\n",
    "- b0 = constent\n",
    "- b1*X1 R&D sent X1 is the amount that spent on the R&D\n",
    "- b2*X2 R&D sent X2 is the amount that spent on the Admin\n",
    "- b3*X3 R&D sent X3 is the amount that spent on the Marketing\n",
    "- In the 4th Column we got categorical data that refers to the states\n",
    "    - to handle the categorical data we splitted each categorical data into seperate columns so that we got two different values New York and California\n",
    "        - if the new york present in the state column we add 1 to the newly created New york column and in the remening columns we insert 0 in to and vise-versa\n",
    "        - So we successfully converted a Categorical data into a numarical data\n",
    "        - because we had only two different categorical data we can use only one column for the categorical data insted of the `New York` and `California` columns if the value is '1' we refernced that to `New York` and If the value if '0' we refernced that to `California`\n",
    "        - If we iclude second column he new Equation is ```y=b0+b1*X1+b2*X2+b3*X3+(+b4*D1+b5*D2 (Categorical value))```\n",
    "            - in the above case the model will be in multi collienearity \n",
    "            - because of that the model will never distinguse between the two categorical data\n",
    "            - for california = b3*D1+b5*D2 as D1 is zero remaining is b5*D2\n",
    "            - \n",
    " - b4*D1 (D1 i s the newly created Dummy variable for the Categorical data)"
   ]
  },
  {
   "cell_type": "code",
   "execution_count": null,
   "id": "0f9fd456-9ba4-4002-8fc0-e8d1bcfad6b1",
   "metadata": {},
   "outputs": [],
   "source": []
  },
  {
   "cell_type": "code",
   "execution_count": null,
   "id": "a722c974-a82b-4773-9518-25a6ba3be99d",
   "metadata": {},
   "outputs": [],
   "source": []
  }
 ],
 "metadata": {
  "kernelspec": {
   "display_name": "Python 3 (ipykernel)",
   "language": "python",
   "name": "python3"
  },
  "language_info": {
   "codemirror_mode": {
    "name": "ipython",
    "version": 3
   },
   "file_extension": ".py",
   "mimetype": "text/x-python",
   "name": "python",
   "nbconvert_exporter": "python",
   "pygments_lexer": "ipython3",
   "version": "3.9.7"
  }
 },
 "nbformat": 4,
 "nbformat_minor": 5
}
